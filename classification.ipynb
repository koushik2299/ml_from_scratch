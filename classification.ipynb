{
 "cells": [
  {
   "cell_type": "code",
   "execution_count": 1,
   "metadata": {},
   "outputs": [],
   "source": [
    "import numpy as np\n",
    "import mlflow\n",
    "from sklearn.datasets import make_classification\n",
    "from sklearn.model_selection import train_test_split\n",
    "from sklearn.linear_model import LogisticRegression\n",
    "from sklearn.ensemble import RandomForestClassifier\n",
    "from xgboost import XGBClassifier\n",
    "from sklearn.metrics import classification_report\n",
    "import warnings\n",
    "from imblearn.combine import SMOTETomek\n",
    "warnings.filterwarnings('ignore')\n"
   ]
  },
  {
   "cell_type": "code",
   "execution_count": 2,
   "metadata": {},
   "outputs": [],
   "source": [
    "X,y = make_classification(n_samples=1000,n_features=10,n_informative=3,n_redundant=7,\n",
    "                          weights=[0.9,0.1],flip_y=0,random_state=23)"
   ]
  },
  {
   "cell_type": "code",
   "execution_count": 3,
   "metadata": {},
   "outputs": [
    {
     "data": {
      "text/plain": [
       "(array([0, 1]), array([900, 100]))"
      ]
     },
     "execution_count": 3,
     "metadata": {},
     "output_type": "execute_result"
    }
   ],
   "source": [
    "np.unique(y,return_counts=True)"
   ]
  },
  {
   "cell_type": "code",
   "execution_count": 4,
   "metadata": {},
   "outputs": [],
   "source": [
    "X_train,X_test,y_train,y_test = train_test_split(X,y,test_size=0.3,stratify=y,random_state=3)"
   ]
  },
  {
   "cell_type": "code",
   "execution_count": 5,
   "metadata": {},
   "outputs": [
    {
     "data": {
      "text/html": [
       "<style>#sk-container-id-1 {color: black;background-color: white;}#sk-container-id-1 pre{padding: 0;}#sk-container-id-1 div.sk-toggleable {background-color: white;}#sk-container-id-1 label.sk-toggleable__label {cursor: pointer;display: block;width: 100%;margin-bottom: 0;padding: 0.3em;box-sizing: border-box;text-align: center;}#sk-container-id-1 label.sk-toggleable__label-arrow:before {content: \"▸\";float: left;margin-right: 0.25em;color: #696969;}#sk-container-id-1 label.sk-toggleable__label-arrow:hover:before {color: black;}#sk-container-id-1 div.sk-estimator:hover label.sk-toggleable__label-arrow:before {color: black;}#sk-container-id-1 div.sk-toggleable__content {max-height: 0;max-width: 0;overflow: hidden;text-align: left;background-color: #f0f8ff;}#sk-container-id-1 div.sk-toggleable__content pre {margin: 0.2em;color: black;border-radius: 0.25em;background-color: #f0f8ff;}#sk-container-id-1 input.sk-toggleable__control:checked~div.sk-toggleable__content {max-height: 200px;max-width: 100%;overflow: auto;}#sk-container-id-1 input.sk-toggleable__control:checked~label.sk-toggleable__label-arrow:before {content: \"▾\";}#sk-container-id-1 div.sk-estimator input.sk-toggleable__control:checked~label.sk-toggleable__label {background-color: #d4ebff;}#sk-container-id-1 div.sk-label input.sk-toggleable__control:checked~label.sk-toggleable__label {background-color: #d4ebff;}#sk-container-id-1 input.sk-hidden--visually {border: 0;clip: rect(1px 1px 1px 1px);clip: rect(1px, 1px, 1px, 1px);height: 1px;margin: -1px;overflow: hidden;padding: 0;position: absolute;width: 1px;}#sk-container-id-1 div.sk-estimator {font-family: monospace;background-color: #f0f8ff;border: 1px dotted black;border-radius: 0.25em;box-sizing: border-box;margin-bottom: 0.5em;}#sk-container-id-1 div.sk-estimator:hover {background-color: #d4ebff;}#sk-container-id-1 div.sk-parallel-item::after {content: \"\";width: 100%;border-bottom: 1px solid gray;flex-grow: 1;}#sk-container-id-1 div.sk-label:hover label.sk-toggleable__label {background-color: #d4ebff;}#sk-container-id-1 div.sk-serial::before {content: \"\";position: absolute;border-left: 1px solid gray;box-sizing: border-box;top: 0;bottom: 0;left: 50%;z-index: 0;}#sk-container-id-1 div.sk-serial {display: flex;flex-direction: column;align-items: center;background-color: white;padding-right: 0.2em;padding-left: 0.2em;position: relative;}#sk-container-id-1 div.sk-item {position: relative;z-index: 1;}#sk-container-id-1 div.sk-parallel {display: flex;align-items: stretch;justify-content: center;background-color: white;position: relative;}#sk-container-id-1 div.sk-item::before, #sk-container-id-1 div.sk-parallel-item::before {content: \"\";position: absolute;border-left: 1px solid gray;box-sizing: border-box;top: 0;bottom: 0;left: 50%;z-index: -1;}#sk-container-id-1 div.sk-parallel-item {display: flex;flex-direction: column;z-index: 1;position: relative;background-color: white;}#sk-container-id-1 div.sk-parallel-item:first-child::after {align-self: flex-end;width: 50%;}#sk-container-id-1 div.sk-parallel-item:last-child::after {align-self: flex-start;width: 50%;}#sk-container-id-1 div.sk-parallel-item:only-child::after {width: 0;}#sk-container-id-1 div.sk-dashed-wrapped {border: 1px dashed gray;margin: 0 0.4em 0.5em 0.4em;box-sizing: border-box;padding-bottom: 0.4em;background-color: white;}#sk-container-id-1 div.sk-label label {font-family: monospace;font-weight: bold;display: inline-block;line-height: 1.2em;}#sk-container-id-1 div.sk-label-container {text-align: center;}#sk-container-id-1 div.sk-container {/* jupyter's `normalize.less` sets `[hidden] { display: none; }` but bootstrap.min.css set `[hidden] { display: none !important; }` so we also need the `!important` here to be able to override the default hidden behavior on the sphinx rendered scikit-learn.org. See: https://github.com/scikit-learn/scikit-learn/issues/21755 */display: inline-block !important;position: relative;}#sk-container-id-1 div.sk-text-repr-fallback {display: none;}</style><div id=\"sk-container-id-1\" class=\"sk-top-container\"><div class=\"sk-text-repr-fallback\"><pre>LogisticRegression(max_iter=1000, random_state=8888)</pre><b>In a Jupyter environment, please rerun this cell to show the HTML representation or trust the notebook. <br />On GitHub, the HTML representation is unable to render, please try loading this page with nbviewer.org.</b></div><div class=\"sk-container\" hidden><div class=\"sk-item\"><div class=\"sk-estimator sk-toggleable\"><input class=\"sk-toggleable__control sk-hidden--visually\" id=\"sk-estimator-id-1\" type=\"checkbox\" checked><label for=\"sk-estimator-id-1\" class=\"sk-toggleable__label sk-toggleable__label-arrow\">LogisticRegression</label><div class=\"sk-toggleable__content\"><pre>LogisticRegression(max_iter=1000, random_state=8888)</pre></div></div></div></div></div>"
      ],
      "text/plain": [
       "LogisticRegression(max_iter=1000, random_state=8888)"
      ]
     },
     "execution_count": 5,
     "metadata": {},
     "output_type": "execute_result"
    }
   ],
   "source": [
    "params = {\n",
    "    \"solver\":\"lbfgs\",\n",
    "    \"max_iter\":1000,\n",
    "    \"multi_class\":\"auto\",\n",
    "    \"random_state\":8888,\n",
    "}\n",
    "\n",
    "lr = LogisticRegression(**params)\n",
    "lr.fit(X_train,y_train)"
   ]
  },
  {
   "cell_type": "code",
   "execution_count": 6,
   "metadata": {},
   "outputs": [],
   "source": [
    "y_pred = lr.predict(X_test)\n",
    "report = classification_report(y_test,y_pred)"
   ]
  },
  {
   "cell_type": "code",
   "execution_count": 7,
   "metadata": {},
   "outputs": [
    {
     "name": "stdout",
     "output_type": "stream",
     "text": [
      "              precision    recall  f1-score   support\n",
      "\n",
      "           0       0.98      0.99      0.99       270\n",
      "           1       0.93      0.83      0.88        30\n",
      "\n",
      "    accuracy                           0.98       300\n",
      "   macro avg       0.95      0.91      0.93       300\n",
      "weighted avg       0.98      0.98      0.98       300\n",
      "\n"
     ]
    }
   ],
   "source": [
    "print(report)"
   ]
  },
  {
   "cell_type": "code",
   "execution_count": 8,
   "metadata": {},
   "outputs": [],
   "source": [
    "report_dict= classification_report(y_test,y_pred,output_dict=True)"
   ]
  },
  {
   "cell_type": "code",
   "execution_count": 9,
   "metadata": {},
   "outputs": [
    {
     "data": {
      "text/plain": [
       "{'0': {'precision': 0.9816849816849816,\n",
       "  'recall': 0.9925925925925926,\n",
       "  'f1-score': 0.9871086556169428,\n",
       "  'support': 270},\n",
       " '1': {'precision': 0.9259259259259259,\n",
       "  'recall': 0.8333333333333334,\n",
       "  'f1-score': 0.8771929824561403,\n",
       "  'support': 30},\n",
       " 'accuracy': 0.9766666666666667,\n",
       " 'macro avg': {'precision': 0.9538054538054538,\n",
       "  'recall': 0.912962962962963,\n",
       "  'f1-score': 0.9321508190365415,\n",
       "  'support': 300},\n",
       " 'weighted avg': {'precision': 0.976109076109076,\n",
       "  'recall': 0.9766666666666667,\n",
       "  'f1-score': 0.9761170883008626,\n",
       "  'support': 300}}"
      ]
     },
     "execution_count": 9,
     "metadata": {},
     "output_type": "execute_result"
    }
   ],
   "source": [
    "report_dict"
   ]
  },
  {
   "cell_type": "code",
   "execution_count": 10,
   "metadata": {},
   "outputs": [],
   "source": [
    "import mlflow"
   ]
  },
  {
   "cell_type": "code",
   "execution_count": 11,
   "metadata": {},
   "outputs": [],
   "source": [
    "mlflow.set_experiment(\"First Experiment\")\n",
    "mlflow.set_tracking_uri(uri=\"http://127.0.0.1:5001\")\n",
    "\n",
    "with mlflow.start_run():\n",
    "    mlflow.log_params(params)\n",
    "    mlflow.log_metrics({\n",
    "        'accuracy':report_dict['accuracy'],\n",
    "        'recall_class_0':report_dict['0']['recall'],\n",
    "        'recall_class_1':report_dict['1']['recall'],\n",
    "        'f1_score_macro':report_dict['macro avg']['f1-score']\n",
    "    })\n",
    "    mlflow.sklearn.log_model(lr,'logistic regression')"
   ]
  },
  {
   "cell_type": "code",
   "execution_count": 12,
   "metadata": {},
   "outputs": [
    {
     "name": "stdout",
     "output_type": "stream",
     "text": [
      "Numpy version: 1.24.0\n",
      "Scikit-learn version: 1.1.3\n",
      "Imbalanced-learn imported successfully.\n"
     ]
    }
   ],
   "source": [
    "import numpy as np\n",
    "import sklearn\n",
    "from imblearn.combine import SMOTETomek\n",
    "\n",
    "print(\"Numpy version:\", np.__version__)\n",
    "print(\"Scikit-learn version:\", sklearn.__version__)\n",
    "print(\"Imbalanced-learn imported successfully.\")\n"
   ]
  },
  {
   "cell_type": "code",
   "execution_count": 13,
   "metadata": {},
   "outputs": [],
   "source": [
    "from imblearn.combine import SMOTETomek"
   ]
  },
  {
   "cell_type": "code",
   "execution_count": 14,
   "metadata": {},
   "outputs": [],
   "source": [
    "smt = SMOTETomek(random_state=34)\n",
    "\n",
    "X_train_res,y_train_res = smt.fit_resample(X_train,y_train)"
   ]
  },
  {
   "cell_type": "code",
   "execution_count": 15,
   "metadata": {},
   "outputs": [
    {
     "data": {
      "text/plain": [
       "(array([0, 1]), array([630,  70]))"
      ]
     },
     "execution_count": 15,
     "metadata": {},
     "output_type": "execute_result"
    }
   ],
   "source": [
    "np.unique(y_train,return_counts=True)"
   ]
  },
  {
   "cell_type": "code",
   "execution_count": 16,
   "metadata": {},
   "outputs": [
    {
     "data": {
      "text/plain": [
       "(array([0, 1]), array([627, 627]))"
      ]
     },
     "execution_count": 16,
     "metadata": {},
     "output_type": "execute_result"
    }
   ],
   "source": [
    "np.unique(y_train_res,return_counts=True)"
   ]
  },
  {
   "cell_type": "code",
   "execution_count": 19,
   "metadata": {},
   "outputs": [],
   "source": [
    "models = [\n",
    "    (\n",
    "        \"LogisticRegression\",\n",
    "        {\"C\":1,\"solver\":\"liblinear\"},\n",
    "        LogisticRegression(),\n",
    "        (X_train,y_train),\n",
    "        (X_test,y_test)\n",
    "    ),\n",
    "    (\n",
    "        \"Random_Forest\",\n",
    "        {\"n_estimators\":30,\"max_depth\":3},\n",
    "        RandomForestClassifier(),\n",
    "        (X_train,y_train),\n",
    "        (X_test,y_test)\n",
    "    ),\n",
    "    (\n",
    "        \"XGBClassifier\",\n",
    "        {\"use_label_encoder\": False, \"eval_metric\": 'logloss'},\n",
    "        XGBClassifier(), \n",
    "        (X_train, y_train),\n",
    "        (X_test, y_test)\n",
    "    ),\n",
    "    (\n",
    "        \"XGBClassifier With SMOTE\",\n",
    "        {\"use_label_encoder\": False, \"eval_metric\": 'logloss'},\n",
    "        XGBClassifier(), \n",
    "        (X_train_res, y_train_res),\n",
    "        (X_test, y_test)\n",
    "    )\n",
    "]"
   ]
  },
  {
   "cell_type": "code",
   "execution_count": 38,
   "metadata": {},
   "outputs": [],
   "source": [
    "logistic_models = [\n",
    "    (\"LogisticRegression_default\",\n",
    " {\"C\": 1.0, \"solver\": \"lbfgs\"},\n",
    " LogisticRegression(),\n",
    " (X_train, y_train),\n",
    " (X_test, y_test)),\n",
    "(\"LogisticRegression_L1\",\n",
    " {\"C\": 0.1, \"solver\": \"liblinear\", \"penalty\": \"l1\"},\n",
    " LogisticRegression(C=0.1, solver=\"liblinear\", penalty=\"l1\"),\n",
    " (X_train, y_train),\n",
    " (X_test, y_test))\n",
    ",\n",
    "    (\"LogisticRegression_L2\",\n",
    " {\"C\": 0.5, \"solver\": \"lbfgs\", \"penalty\": \"l2\"},\n",
    " LogisticRegression(C=0.5, solver=\"lbfgs\", penalty=\"l2\"),\n",
    " (X_train, y_train),\n",
    " (X_test, y_test))\n",
    ",\n",
    "    (\"LogisticRegression_no_reg\",\n",
    " {\"C\": 1e6, \"solver\": \"lbfgs\"},\n",
    " LogisticRegression(C=1e6, solver=\"lbfgs\"),\n",
    " (X_train, y_train),\n",
    " (X_test, y_test)),\n",
    " (\n",
    "        \"XGBClassifier With SMOTE\",\n",
    "        {\"use_label_encoder\": False, \"eval_metric\": 'logloss'},\n",
    "        XGBClassifier(), \n",
    "        (X_train_res, y_train_res),\n",
    "        (X_test, y_test)\n",
    "    )\n",
    "\n",
    "]"
   ]
  },
  {
   "cell_type": "code",
   "execution_count": 39,
   "metadata": {},
   "outputs": [],
   "source": [
    "reports = []\n",
    "\n",
    "for model_name,model_parms,model,train,test in logistic_models:\n",
    "    X_train = train[0]\n",
    "    X_test = test[0]\n",
    "    y_train = train[1]\n",
    "    y_test = test[1]\n",
    "    model.set_params(**model_parms)\n",
    "    model.fit(X_train,y_train)\n",
    "    y_pred = model.predict(X_test)\n",
    "    report = classification_report(y_test,y_pred,output_dict=True)\n",
    "    reports.append(report)\n"
   ]
  },
  {
   "cell_type": "code",
   "execution_count": 22,
   "metadata": {},
   "outputs": [
    {
     "data": {
      "text/plain": [
       "[{'0': {'precision': 0.9816176470588235,\n",
       "   'recall': 0.9888888888888889,\n",
       "   'f1-score': 0.9852398523985241,\n",
       "   'support': 270},\n",
       "  '1': {'precision': 0.8928571428571429,\n",
       "   'recall': 0.8333333333333334,\n",
       "   'f1-score': 0.8620689655172413,\n",
       "   'support': 30},\n",
       "  'accuracy': 0.9733333333333334,\n",
       "  'macro avg': {'precision': 0.9372373949579832,\n",
       "   'recall': 0.9111111111111112,\n",
       "   'f1-score': 0.9236544089578826,\n",
       "   'support': 300},\n",
       "  'weighted avg': {'precision': 0.9727415966386553,\n",
       "   'recall': 0.9733333333333334,\n",
       "   'f1-score': 0.972922763710396,\n",
       "   'support': 300}},\n",
       " {'0': {'precision': 0.9746376811594203,\n",
       "   'recall': 0.9962962962962963,\n",
       "   'f1-score': 0.9853479853479854,\n",
       "   'support': 270},\n",
       "  '1': {'precision': 0.9583333333333334,\n",
       "   'recall': 0.7666666666666667,\n",
       "   'f1-score': 0.8518518518518519,\n",
       "   'support': 30},\n",
       "  'accuracy': 0.9733333333333334,\n",
       "  'macro avg': {'precision': 0.9664855072463768,\n",
       "   'recall': 0.8814814814814815,\n",
       "   'f1-score': 0.9185999185999186,\n",
       "   'support': 300},\n",
       "  'weighted avg': {'precision': 0.9730072463768117,\n",
       "   'recall': 0.9733333333333334,\n",
       "   'f1-score': 0.9719983719983721,\n",
       "   'support': 300}},\n",
       " {'0': {'precision': 0.9816849816849816,\n",
       "   'recall': 0.9925925925925926,\n",
       "   'f1-score': 0.9871086556169428,\n",
       "   'support': 270},\n",
       "  '1': {'precision': 0.9259259259259259,\n",
       "   'recall': 0.8333333333333334,\n",
       "   'f1-score': 0.8771929824561403,\n",
       "   'support': 30},\n",
       "  'accuracy': 0.9766666666666667,\n",
       "  'macro avg': {'precision': 0.9538054538054538,\n",
       "   'recall': 0.912962962962963,\n",
       "   'f1-score': 0.9321508190365415,\n",
       "   'support': 300},\n",
       "  'weighted avg': {'precision': 0.976109076109076,\n",
       "   'recall': 0.9766666666666667,\n",
       "   'f1-score': 0.9761170883008626,\n",
       "   'support': 300}},\n",
       " {'0': {'precision': 0.9884615384615385,\n",
       "   'recall': 0.9518518518518518,\n",
       "   'f1-score': 0.969811320754717,\n",
       "   'support': 270},\n",
       "  '1': {'precision': 0.675,\n",
       "   'recall': 0.9,\n",
       "   'f1-score': 0.7714285714285714,\n",
       "   'support': 30},\n",
       "  'accuracy': 0.9466666666666667,\n",
       "  'macro avg': {'precision': 0.8317307692307693,\n",
       "   'recall': 0.9259259259259259,\n",
       "   'f1-score': 0.8706199460916442,\n",
       "   'support': 300},\n",
       "  'weighted avg': {'precision': 0.9571153846153847,\n",
       "   'recall': 0.9466666666666667,\n",
       "   'f1-score': 0.9499730458221025,\n",
       "   'support': 300}}]"
      ]
     },
     "execution_count": 22,
     "metadata": {},
     "output_type": "execute_result"
    }
   ],
   "source": [
    "reports"
   ]
  },
  {
   "cell_type": "code",
   "execution_count": 40,
   "metadata": {},
   "outputs": [
    {
     "name": "stderr",
     "output_type": "stream",
     "text": [
      "2024/11/18 22:06:34 INFO mlflow.tracking.fluent: Experiment with name 'LogisticExp' does not exist. Creating a new experiment.\n"
     ]
    }
   ],
   "source": [
    "mlflow.set_experiment(\"LogisticExp\")\n",
    "mlflow.set_tracking_uri(\"http://127.0.0.1:5001\")\n",
    "\n",
    "for i,element in enumerate(logistic_models):\n",
    "    model_name = element[0]\n",
    "    model_parms = element[1]\n",
    "    model_parms['model_name']=model_name\n",
    "    model = element[2]\n",
    "    report = reports[i]\n",
    "\n",
    "    with mlflow.start_run(run_name=model_name):\n",
    "        mlflow.log_params(model_parms)\n",
    "        mlflow.log_metrics(\n",
    "            {\n",
    "                'accuracy':report['accuracy'],\n",
    "                'recall_class_1': report['1']['recall'],\n",
    "                'recall_class_0':report['0']['recall'],\n",
    "                'f1_score_macro': report['macro avg']['f1-score']\n",
    "            }\n",
    "        )\n",
    "\n",
    "        if \"XGB\" in model_name:\n",
    "            mlflow.xgboost.log_model(model,\"model\")\n",
    "        else:\n",
    "            mlflow.sklearn.log_model(model,\"model\")"
   ]
  },
  {
   "cell_type": "code",
   "execution_count": null,
   "metadata": {},
   "outputs": [],
   "source": []
  },
  {
   "cell_type": "code",
   "execution_count": null,
   "metadata": {},
   "outputs": [],
   "source": []
  }
 ],
 "metadata": {
  "kernelspec": {
   "display_name": "venv",
   "language": "python",
   "name": "python3"
  },
  "language_info": {
   "codemirror_mode": {
    "name": "ipython",
    "version": 3
   },
   "file_extension": ".py",
   "mimetype": "text/x-python",
   "name": "python",
   "nbconvert_exporter": "python",
   "pygments_lexer": "ipython3",
   "version": "3.10.15"
  }
 },
 "nbformat": 4,
 "nbformat_minor": 2
}
